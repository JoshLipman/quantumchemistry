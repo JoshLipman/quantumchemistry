{
 "cells": [
  {
   "cell_type": "markdown",
   "metadata": {
    "id": "cCypb9CkbUXG"
   },
   "source": [
    "**Optimize geometry of H2O**\n",
    "\n",
    "Follows Pennylane adaptive circuit tutorial to obtain circuit, and molecular geometry tutorial to optimize geometry"
   ]
  },
  {
   "cell_type": "code",
   "execution_count": 1,
   "metadata": {},
   "outputs": [],
   "source": [
    "import psi4"
   ]
  },
  {
   "cell_type": "code",
   "execution_count": 2,
   "metadata": {
    "id": "9nbeRa8rnm2M"
   },
   "outputs": [],
   "source": [
    "from pennylane import numpy as np\n",
    "import pennylane as qml"
   ]
  },
  {
   "cell_type": "code",
   "execution_count": 3,
   "metadata": {
    "id": "NppXsm80RXk6"
   },
   "outputs": [],
   "source": [
    "from pennylane import qchem"
   ]
  },
  {
   "cell_type": "code",
   "execution_count": 4,
   "metadata": {},
   "outputs": [],
   "source": [
    "from openfermion.chem import MolecularData\n",
    "from openfermionpsi4 import run_psi4"
   ]
  },
  {
   "cell_type": "code",
   "execution_count": 5,
   "metadata": {},
   "outputs": [],
   "source": [
    "ang_coords = np.array([0.0000,0.7581,-0.5086,\n",
    "                       0.0,0.0,0.1272,\n",
    "                       0.0000,-0.7581,-0.5086])\n",
    "\n",
    "bohr_angs = 0.529177210903\n",
    "angs_bohr = 1/bohr_angs"
   ]
  },
  {
   "cell_type": "code",
   "execution_count": 6,
   "metadata": {
    "id": "qKWsnkyhjBsl"
   },
   "outputs": [
    {
     "name": "stdout",
     "output_type": "stream",
     "text": [
      "[ 0.          1.43260138 -0.96111471  0.          0.          0.24037316\n",
      "  0.         -1.43260138 -0.96111471]\n"
     ]
    }
   ],
   "source": [
    "# Set up the molecule. Geometry coordinates from CCCBDB\n",
    "\n",
    "symbols = [\"H\",\"O\",\"H\"]\n",
    "geometry = np.array(ang_coords*angs_bohr, requires_grad=True)\n",
    "print(geometry)"
   ]
  },
  {
   "cell_type": "markdown",
   "metadata": {
    "id": "cLHwU1yIuJpM"
   },
   "source": [
    "Now create the circuit using https://pennylane.ai/qml/demos/tutorial_adaptive_circuits.html"
   ]
  },
  {
   "cell_type": "markdown",
   "metadata": {
    "id": "Osd-SpI7Z1bs"
   },
   "source": [
    "First - compute the Hamiltonian and calculate the single and double electron excitations (maybe also try looking at 3 & 4 excitations to see what effect it has on accuracy?).\n",
    "\n",
    "Active electrons = total electrons - core s type carbon electrons\n",
    "Active orbitals = orbitals that these active electrons occupy"
   ]
  },
  {
   "cell_type": "code",
   "execution_count": 7,
   "metadata": {},
   "outputs": [
    {
     "name": "stdout",
     "output_type": "stream",
     "text": [
      "[ 0.          1.43260138 -0.96111471  0.          0.          0.24037316\n",
      "  0.         -1.43260138 -0.96111471]\n"
     ]
    },
    {
     "name": "stderr",
     "output_type": "stream",
     "text": [
      "2022-02-27 10:13:07.176389: I tensorflow/core/platform/cpu_feature_guard.cc:151] This TensorFlow binary is optimized with oneAPI Deep Neural Network Library (oneDNN) to use the following CPU instructions in performance-critical operations:  AVX2 FMA\n",
      "To enable them in other operations, rebuild TensorFlow with the appropriate compiler flags.\n"
     ]
    }
   ],
   "source": [
    "import tensorflow as tf\n",
    "tensor = tf.constant(geometry)\n",
    "geometry_arr = tensor.numpy()\n",
    "print(geometry_arr)"
   ]
  },
  {
   "cell_type": "code",
   "execution_count": 8,
   "metadata": {},
   "outputs": [
    {
     "data": {
      "text/plain": [
       "numpy.ndarray"
      ]
     },
     "execution_count": 8,
     "metadata": {},
     "output_type": "execute_result"
    }
   ],
   "source": [
    "type(geometry_arr)"
   ]
  },
  {
   "cell_type": "code",
   "execution_count": 9,
   "metadata": {
    "id": "zDVJAlPwZlY8"
   },
   "outputs": [],
   "source": [
    "active_electrons = 2\n",
    "active_orbitals = 3\n",
    "\n",
    "H, qubits = qchem.molecular_hamiltonian(\n",
    "    symbols,\n",
    "    geometry_arr,\n",
    "    active_electrons=active_electrons, # figure out how to get this\n",
    "    active_orbitals=active_orbitals, # figure out how to get this\n",
    "    package='psi4')\n",
    "\n",
    "singles, doubles = qchem.excitations(active_electrons, qubits)"
   ]
  },
  {
   "cell_type": "code",
   "execution_count": 10,
   "metadata": {
    "colab": {
     "base_uri": "https://localhost:8080/"
    },
    "id": "9qF8R7kRisJ7",
    "outputId": "20624f88-73a6-4203-f5be-fea561a85a8f"
   },
   "outputs": [
    {
     "name": "stdout",
     "output_type": "stream",
     "text": [
      "6\n"
     ]
    }
   ],
   "source": [
    "print(qubits)"
   ]
  },
  {
   "cell_type": "code",
   "execution_count": 11,
   "metadata": {
    "colab": {
     "base_uri": "https://localhost:8080/"
    },
    "id": "vV3E-VzMbq8u",
    "outputId": "96a37f1e-96f0-43ea-b860-5ac47a6e11b4"
   },
   "outputs": [
    {
     "name": "stdout",
     "output_type": "stream",
     "text": [
      "[[0, 2], [0, 4], [1, 3], [1, 5]]\n"
     ]
    }
   ],
   "source": [
    "print(singles)"
   ]
  },
  {
   "cell_type": "code",
   "execution_count": 12,
   "metadata": {
    "colab": {
     "base_uri": "https://localhost:8080/"
    },
    "id": "oMQhe_-7bw8p",
    "outputId": "473e78f4-aba0-4825-ef74-4a2b38d324d3"
   },
   "outputs": [
    {
     "name": "stdout",
     "output_type": "stream",
     "text": [
      "[[0, 1, 2, 3], [0, 1, 2, 5], [0, 1, 3, 4], [0, 1, 4, 5]]\n"
     ]
    }
   ],
   "source": [
    "print(doubles)"
   ]
  },
  {
   "cell_type": "markdown",
   "metadata": {
    "id": "JbgjpJ3xaXRx"
   },
   "source": [
    "Get the Hartree-Fock state"
   ]
  },
  {
   "cell_type": "code",
   "execution_count": 13,
   "metadata": {
    "colab": {
     "base_uri": "https://localhost:8080/"
    },
    "id": "bWbHpJXwbKqL",
    "outputId": "288b7746-48a5-478e-9088-ec60e20357bf"
   },
   "outputs": [
    {
     "name": "stdout",
     "output_type": "stream",
     "text": [
      "[1 1 0 0 0 0]\n"
     ]
    }
   ],
   "source": [
    "hf_state = qchem.hf_state(active_electrons, qubits)\n",
    "print(hf_state)"
   ]
  },
  {
   "cell_type": "markdown",
   "metadata": {
    "id": "qnmwO_--bVa0"
   },
   "source": [
    "Build the circuit:\n",
    "\n",
    "\n",
    "\n",
    "1.   Compute gradients for all double excitations\n",
    "2.   Select the double excitations with \n",
    "gradients larger than a pre-defined threshold\n",
    "\n",
    "1.   Select the double excitations with \n",
    "gradients larger than a pre-defined threshold\n",
    "2.   Perform VQE to obtain the optimized parameters for the selected double excitations\n",
    "\n",
    "1.   Repeat steps 1 and 2 for the single excitations"
   ]
  },
  {
   "cell_type": "code",
   "execution_count": 14,
   "metadata": {
    "id": "EOtNBQFMbR15"
   },
   "outputs": [],
   "source": [
    "# This function builds the circuit based on the set of parameters passed below\n",
    "# Wires - i.e. qubits in the circuit, and specific qubit excitations\n",
    "\n",
    "def circuit_1(params, wires, excitations):\n",
    "\n",
    "    qml.BasisState(hf_state, wires=wires)\n",
    "\n",
    "    for i, excitation in enumerate(excitations):\n",
    "        if len(excitation) == 4: #double excitations have four entries\n",
    "            qml.DoubleExcitation(params[i], wires=excitation)\n",
    "        else:\n",
    "            qml.SingleExcitation(params[i], wires=excitation) #two entries each"
   ]
  },
  {
   "cell_type": "code",
   "execution_count": 15,
   "metadata": {
    "colab": {
     "base_uri": "https://localhost:8080/"
    },
    "id": "TTxTorpOcV31",
    "outputId": "3be02dd5-bf99-43bf-bdc9-e61095b9977d"
   },
   "outputs": [
    {
     "name": "stdout",
     "output_type": "stream",
     "text": [
      "Excitation : [0, 1, 2, 3], Gradient: 0.01878761308062978\n",
      "Excitation : [0, 1, 2, 5], Gradient: 0.0\n",
      "Excitation : [0, 1, 3, 4], Gradient: 0.0\n",
      "Excitation : [0, 1, 4, 5], Gradient: 0.012086488323520887\n"
     ]
    }
   ],
   "source": [
    "# specify the device\n",
    "dev = qml.device(\"default.qubit\", wires=qubits)\n",
    "\n",
    "# cost function calculate the expectation value of the Hamiltonian based on the\n",
    "# ansatz which is the circuit\n",
    "cost_fn = qml.ExpvalCost(circuit_1, H, dev, optimize=True)\n",
    "\n",
    "# # get the gradient of the cost function\n",
    "circuit_gradient = qml.grad(cost_fn, argnum=0)\n",
    "\n",
    "# # initialize parameters to zero so gradients computed from HF state\n",
    "params = [0.0] * len(doubles)\n",
    "\n",
    "# #calculate the gradient for the double excitations\n",
    "# this one actually calls the circuit_1 function\n",
    "grads = circuit_gradient(params, excitations=doubles)\n",
    "\n",
    "for i in range(len(doubles)):\n",
    "    print(f\"Excitation : {doubles[i]}, Gradient: {grads[i]}\")"
   ]
  },
  {
   "cell_type": "code",
   "execution_count": 16,
   "metadata": {
    "colab": {
     "base_uri": "https://localhost:8080/"
    },
    "id": "uI2S04Z7gyzb",
    "outputId": "e9a00ff5-ec8f-40d4-d6f6-1e95d6e88f8f"
   },
   "outputs": [
    {
     "data": {
      "text/plain": [
       "[[0, 1, 2, 3], [0, 1, 4, 5]]"
      ]
     },
     "execution_count": 16,
     "metadata": {},
     "output_type": "execute_result"
    }
   ],
   "source": [
    "# Just keep the double excitations that have gradients > 10^-5\n",
    "\n",
    "doubles_select = [doubles[i] for i in range(len(doubles)) if abs(grads[i]) > 1.0e-5]\n",
    "doubles_select"
   ]
  },
  {
   "cell_type": "code",
   "execution_count": 17,
   "metadata": {
    "id": "WOGyjz6cmXr3"
   },
   "outputs": [
    {
     "name": "stdout",
     "output_type": "stream",
     "text": [
      "[-0.00939381 -0.00604324]\n",
      "[-0.01619513 -0.01034933]\n",
      "[-0.02111788 -0.01341883]\n",
      "[-0.02468007 -0.01560782]\n",
      "[-0.0272572  -0.01716959]\n",
      "[-0.02912134 -0.01828436]\n",
      "[-0.03046953 -0.01908042]\n",
      "[-0.03144442 -0.01964913]\n",
      "[-0.03214929 -0.02005559]\n",
      "[-0.03265884 -0.0203462 ]\n",
      "[-0.03302717 -0.02055406]\n",
      "[-0.03329337 -0.02070278]\n",
      "[-0.03348575 -0.02080924]\n",
      "[-0.03362476 -0.02088546]\n",
      "[-0.0337252  -0.02094006]\n",
      "[-0.03379776 -0.02097917]\n",
      "[-0.03385018 -0.02100721]\n",
      "[-0.03388804 -0.0210273 ]\n",
      "[-0.03391539 -0.02104172]\n",
      "[-0.03393514 -0.02105205]\n"
     ]
    }
   ],
   "source": [
    "# Calculate the parameters (params_doubles) for each of the double excitation gates\n",
    "# using gradient descent to find the lowest expectation value of H on circuit_1\n",
    "# having applied the selected double excitations\n",
    "\n",
    "opt = qml.GradientDescentOptimizer(stepsize=0.5)\n",
    "\n",
    "params_doubles = np.zeros(len(doubles_select), requires_grad=True)\n",
    "\n",
    "for n in range(20):\n",
    "    params_doubles = opt.step(cost_fn, params_doubles, excitations=doubles_select)\n",
    "    print(params_doubles)"
   ]
  },
  {
   "cell_type": "code",
   "execution_count": 18,
   "metadata": {
    "id": "y2kr8xZjoGwH"
   },
   "outputs": [],
   "source": [
    "# Create new circuit that applies the selected gates based on the gradients\n",
    "# determined above gradient threshold and pass those gates the parameters\n",
    "# calculated in the GDO process\n",
    "\n",
    "def circuit_2(params, wires, excitations, gates_select, params_select):\n",
    "    qml.BasisState(hf_state, wires=wires)\n",
    "\n",
    "    # apply the selected gates and apply parameters\n",
    "    \n",
    "    for i, gate in enumerate(gates_select):\n",
    "        if len(gate) == 4:\n",
    "            qml.DoubleExcitation(params_select[i], wires=gate)\n",
    "        elif len(gate) == 2:\n",
    "            qml.SingleExcitation(params_select[i], wires=gate)\n",
    "\n",
    "    for i, gate in enumerate(excitations):\n",
    "        if len(gate) == 4:\n",
    "            qml.DoubleExcitation(params[i], wires=gate)\n",
    "        elif len(gate) == 2:\n",
    "            qml.SingleExcitation(params[i], wires=gate)"
   ]
  },
  {
   "cell_type": "code",
   "execution_count": 19,
   "metadata": {
    "colab": {
     "base_uri": "https://localhost:8080/"
    },
    "id": "Dlbi0W0NpFTE",
    "outputId": "65c28701-1882-459c-ee00-c5d40379fc83"
   },
   "outputs": [
    {
     "name": "stdout",
     "output_type": "stream",
     "text": [
      "Excitation : [0, 2], Gradient: 0.0\n",
      "Excitation : [0, 4], Gradient: 0.0\n",
      "Excitation : [1, 3], Gradient: 0.0\n",
      "Excitation : [1, 5], Gradient: 0.0\n"
     ]
    }
   ],
   "source": [
    "# Now compute gradients for single excitations, in same way we did for the\n",
    "# double excitations\n",
    "\n",
    "# cost function calculate the expectation value of the Hamiltonian based on the\n",
    "# ansatz which is the circuit\n",
    "cost_fn = qml.ExpvalCost(circuit_2, H, dev, optimize=True)\n",
    "\n",
    "# get the gradient of the cost function\n",
    "circuit_gradient = qml.grad(cost_fn, argnum=0)\n",
    "\n",
    "# initialize parameters to zero so gradients computed from HF state\n",
    "# note that we're only doing this for the single excitations as the \n",
    "# doubles are already fixed\n",
    "params = [0.0] * len(singles)\n",
    "\n",
    "# calculate the gradient for the single excitations, but with the previously\n",
    "# computed double excitations held constant. Note that circuit_2 takes the\n",
    "# following parameters: params, wires, excitations, gates_select, params_select\n",
    "\n",
    "grads = circuit_gradient(\n",
    "    params,\n",
    "    excitations=singles,\n",
    "    gates_select = doubles_select,\n",
    "    params_select = params_doubles)\n",
    "\n",
    "for i in range(len(singles)):\n",
    "    print(f\"Excitation : {singles[i]}, Gradient: {grads[i]}\")"
   ]
  },
  {
   "cell_type": "code",
   "execution_count": 20,
   "metadata": {
    "colab": {
     "base_uri": "https://localhost:8080/"
    },
    "id": "ydkNw9Q9qEZJ",
    "outputId": "bc21dfa4-502b-4b5c-f223-6eb1219904c6"
   },
   "outputs": [
    {
     "data": {
      "text/plain": [
       "[]"
      ]
     },
     "execution_count": 20,
     "metadata": {},
     "output_type": "execute_result"
    }
   ],
   "source": [
    "singles_select = [singles[i] for i in range(len(singles)) if abs(grads[i]) > 1.0e-5]\n",
    "singles_select"
   ]
  },
  {
   "cell_type": "code",
   "execution_count": 21,
   "metadata": {
    "colab": {
     "base_uri": "https://localhost:8080/"
    },
    "id": "60M-hG-lzVPu",
    "outputId": "38e82693-20c7-40e6-93ed-f0c70ad6666c"
   },
   "outputs": [
    {
     "data": {
      "text/plain": [
       "[[0, 1, 2, 3], [0, 1, 4, 5]]"
      ]
     },
     "execution_count": 21,
     "metadata": {},
     "output_type": "execute_result"
    }
   ],
   "source": [
    "excitations = doubles_select + singles_select\n",
    "excitations"
   ]
  },
  {
   "cell_type": "code",
   "execution_count": 22,
   "metadata": {
    "colab": {
     "base_uri": "https://localhost:8080/"
    },
    "id": "lLnT6xkcnt2I",
    "outputId": "63158beb-142a-434c-c048-abb045fd7588"
   },
   "outputs": [],
   "source": [
    "# cost_fn = qml.ExpvalCost(circuit_1, H, dev, optimize=True)\n",
    "\n",
    "# params = np.zeros(len(doubles_select + singles_select), requires_grad=True)\n",
    "\n",
    "# gates_select = doubles_select + singles_select\n",
    "\n",
    "# for n in range(20):\n",
    "#     params, energy = opt.step_and_cost(cost_fn, params, excitations=gates_select)\n",
    "#     print(\"n = {:},  E = {:.8f} H\".format(n, energy))"
   ]
  },
  {
   "cell_type": "code",
   "execution_count": 23,
   "metadata": {
    "colab": {
     "base_uri": "https://localhost:8080/"
    },
    "id": "h8yzsYRQoWOV",
    "outputId": "273e3540-333d-4c34-944f-9f57961faac2"
   },
   "outputs": [],
   "source": [
    "# params"
   ]
  },
  {
   "cell_type": "markdown",
   "metadata": {
    "id": "Gd2MspiurS-D"
   },
   "source": [
    "**Now we do the geometry and energy optimization**\n"
   ]
  },
  {
   "cell_type": "code",
   "execution_count": 24,
   "metadata": {
    "id": "vGD1gfOd6iZr"
   },
   "outputs": [],
   "source": [
    "x = np.array(ang_coords*angs_bohr, requires_grad=True)"
   ]
  },
  {
   "cell_type": "code",
   "execution_count": 25,
   "metadata": {
    "id": "BxZViwVEnZR4"
   },
   "outputs": [],
   "source": [
    "# Get the Hamiltonian for the molecule, based on x (position of nuclei)\n",
    "# This is different from the earlier code where we weren't changing positions\n",
    "\n",
    "def H(x):\n",
    "    return qml.qchem.molecular_hamiltonian(symbols,\n",
    "                                           x,\n",
    "                                           active_electrons=active_electrons,\n",
    "                                           active_orbitals=active_orbitals,\n",
    "                                           charge=0,package='psi4')[0]"
   ]
  },
  {
   "cell_type": "code",
   "execution_count": 26,
   "metadata": {
    "colab": {
     "base_uri": "https://localhost:8080/"
    },
    "id": "Sicu5ACAnhhw",
    "outputId": "83041fb1-39c9-4cd0-f7e5-8ba8d8247984"
   },
   "outputs": [
    {
     "name": "stdout",
     "output_type": "stream",
     "text": [
      "[1 1 0 0 0 0]\n"
     ]
    }
   ],
   "source": [
    "# we made the HF state earlier, doing it here again\n",
    "\n",
    "hf = qchem.hf_state(active_electrons, qubits)\n",
    "print(hf)"
   ]
  },
  {
   "cell_type": "code",
   "execution_count": 27,
   "metadata": {
    "colab": {
     "base_uri": "https://localhost:8080/"
    },
    "id": "8HD69aECZWhO",
    "outputId": "60cdf939-a105-4483-9c6f-d73d30dd32ef"
   },
   "outputs": [
    {
     "name": "stdout",
     "output_type": "stream",
     "text": [
      "6\n"
     ]
    }
   ],
   "source": [
    "print(qubits)"
   ]
  },
  {
   "cell_type": "code",
   "execution_count": 28,
   "metadata": {
    "colab": {
     "base_uri": "https://localhost:8080/"
    },
    "id": "AE4l6s2v2oK1",
    "outputId": "3eb6f59b-69d5-4d62-f9fe-7da083694971"
   },
   "outputs": [
    {
     "name": "stdout",
     "output_type": "stream",
     "text": [
      "6\n"
     ]
    }
   ],
   "source": [
    "num_wires = qubits\n",
    "dev = qml.device(\"default.qubit\", wires=num_wires)\n",
    "print(num_wires)"
   ]
  },
  {
   "cell_type": "code",
   "execution_count": 29,
   "metadata": {
    "id": "QFqvelYtoTzv"
   },
   "outputs": [],
   "source": [
    "@qml.qnode(dev)\n",
    "def circuit(params, obs, wires):\n",
    "    qml.BasisState(hf, wires=wires)\n",
    "\n",
    "    #added this code, replacing hard-coded excitations in tutorial\n",
    "\n",
    "    for i, excitation in enumerate(excitations):\n",
    "        if len(excitation) == 4:\n",
    "            qml.DoubleExcitation(params[i], wires=excitation)\n",
    "        else:\n",
    "            qml.SingleExcitation(params[i], wires=excitation) \n",
    "    \n",
    "    return qml.expval(obs)"
   ]
  },
  {
   "cell_type": "code",
   "execution_count": 30,
   "metadata": {
    "id": "xwgrL_lFoXnX"
   },
   "outputs": [],
   "source": [
    "# Get the expectation value of the Hamiltonian, based on the excitation\n",
    "# parameters and the x (position) value. A call to 'circuit' returns\n",
    "# the expectation value of measuring the Hamiltonian\n",
    "\n",
    "# NOTE: find a way to not have to pass the excitations each time?\n",
    "\n",
    "def cost(params, x):   \n",
    "    tensor = tf.constant(x)\n",
    "    x_arr = tensor.numpy()\n",
    "    hamiltonian = H(x_arr)\n",
    "    return circuit(params, obs=hamiltonian, wires=range(num_wires))"
   ]
  },
  {
   "cell_type": "markdown",
   "metadata": {
    "id": "OI19SG6yrOc5"
   },
   "source": [
    "Explanation of [qml.finite_diff](https://pennylane.readthedocs.io/en/stable/code/api/pennylane.finite_diff.html#pennylane.finite_diff)"
   ]
  },
  {
   "cell_type": "code",
   "execution_count": 31,
   "metadata": {
    "id": "ke8e5uK5oa96"
   },
   "outputs": [],
   "source": [
    "# Find the partial differential of H w.r.t. x\n",
    "\n",
    "def grad_x(params, x):\n",
    "    grad_h = qml.finite_diff(H)(x)\n",
    "    grad = [circuit(params, obs=obs, wires=range(num_wires)) for obs in grad_h]\n",
    "    return np.array(grad)"
   ]
  },
  {
   "cell_type": "code",
   "execution_count": 32,
   "metadata": {
    "id": "XfzPvaNBod7g"
   },
   "outputs": [],
   "source": [
    "# Experiment with different step sizes?\n",
    "\n",
    "opt_theta = qml.GradientDescentOptimizer(stepsize=0.4)\n",
    "opt_x = qml.GradientDescentOptimizer(stepsize=0.8)"
   ]
  },
  {
   "cell_type": "code",
   "execution_count": 33,
   "metadata": {
    "colab": {
     "base_uri": "https://localhost:8080/"
    },
    "id": "cDLtKAPyogVE",
    "outputId": "155215a2-3497-47a4-9303-dd9c4898b1d9"
   },
   "outputs": [
    {
     "data": {
      "text/plain": [
       "2"
      ]
     },
     "execution_count": 33,
     "metadata": {},
     "output_type": "execute_result"
    }
   ],
   "source": [
    "theta = np.zeros(len(excitations), requires_grad=True)\n",
    "len(theta)"
   ]
  },
  {
   "cell_type": "code",
   "execution_count": 34,
   "metadata": {
    "id": "gBjsJJ0f0vIV"
   },
   "outputs": [],
   "source": [
    "from functools import partial\n",
    "\n",
    "# store the values of the cost function\n",
    "energy = []\n",
    "\n",
    "# store the values of the bond length\n",
    "bond_length = []\n",
    "\n",
    "# store the values of the bond angle\n",
    "bond_angle = []\n",
    "\n",
    "# Factor to convert from Bohrs to Angstroms\n",
    "bohr_angs = 0.529177210903"
   ]
  },
  {
   "cell_type": "code",
   "execution_count": 35,
   "metadata": {
    "colab": {
     "base_uri": "https://localhost:8080/"
    },
    "id": "s8K35eBothaj",
    "outputId": "9ab9514c-fb4c-422a-88b9-8c1494f35682",
    "scrolled": false
   },
   "outputs": [
    {
     "name": "stdout",
     "output_type": "stream",
     "text": [
      "Step = 0,  E = -74.96659817 Ha,  bond length = 0.98936 A, bond angle = 1.7459\n",
      "Step = 4,  E = -74.96739112 Ha,  bond length = 0.98943 A, bond angle = 1.7461\n",
      "Step = 8,  E = -74.96746992 Ha,  bond length = 0.98952 A, bond angle = 1.7463\n",
      "Step = 12,  E = -74.96747820 Ha,  bond length = 0.98956 A, bond angle = 1.7464\n",
      "Step = 16,  E = -74.96747913 Ha,  bond length = 0.98957 A, bond angle = 1.7465\n",
      "\n",
      "Final value of the ground-state energy = -74.96747913 Ha\n",
      "\n",
      "Ground-state equilibrium geometry\n",
      "symbol    x        y        z\n",
      "  H    0.0000   1.4332   -0.9610\n",
      "  O    0.0000   0.0000   0.2402\n",
      "  H    0.0000   -1.4332   -0.9610\n"
     ]
    }
   ],
   "source": [
    "for n in range(100):\n",
    "\n",
    "    # Optimize the circuit parameters\n",
    "    theta.requires_grad = True\n",
    "    x.requires_grad = False\n",
    "    theta, _ = opt_theta.step(cost, theta, x)\n",
    "\n",
    "    # Optimize the nuclear coordinates\n",
    "    x.requires_grad = True\n",
    "    theta.requires_grad = False\n",
    "    _, x = opt_x.step(cost, theta, x, grad_fn=grad_x)\n",
    "    \n",
    "\n",
    "    h1 = np.array([x[0], x[1],x[2]])\n",
    "    o1 = np.array([x[3], x[4],x[5]])\n",
    "    h2 = np.array([x[6], x[7],x[8]])\n",
    " \n",
    "    h1o1 = h1 - o1\n",
    "    o1h2 = h2 - o1\n",
    "\n",
    "    cosine_angle = np.dot(h1o1, o1h2) / (np.linalg.norm(h1o1) * np.linalg.norm(o1h2))\n",
    "    angle = np.arccos(cosine_angle)\n",
    "\n",
    "    energy.append(cost(theta, x))\n",
    "    bond_length.append(np.linalg.norm(x[0:3] - x[3:6]) * bohr_angs)\n",
    "    bond_angle.append(np.degrees(angle)) \n",
    "    \n",
    "    if n % 4 == 0:\n",
    "        print(f\"Step = {n},  E = {energy[-1]:.8f} Ha,  bond length = {bond_length[-1]:.5f} A, bond angle = {bond_angle[-1]}\")\n",
    "\n",
    "    # Check maximum component of the nuclear gradient\n",
    "    if np.max(grad_x(theta, x)) <= 1e-05:\n",
    "        break\n",
    "\n",
    "print(\"\\n\" f\"Final value of the ground-state energy = {energy[-1]:.8f} Ha\")\n",
    "print(\"\\n\" \"Ground-state equilibrium geometry\")\n",
    "print(\"%s %4s %8s %8s\" % (\"symbol\", \"x\", \"y\", \"z\"))\n",
    "for i, atom in enumerate(symbols):\n",
    "    print(f\"  {atom}    {x[3 * i]:.4f}   {x[3 * i + 1]:.4f}   {x[3 * i + 2]:.4f}\")"
   ]
  },
  {
   "cell_type": "code",
   "execution_count": 71,
   "metadata": {
    "colab": {
     "base_uri": "https://localhost:8080/",
     "height": 345
    },
    "id": "j9-o_SZ2q_UK",
    "outputId": "3b517156-0993-4afb-efc2-3a2dd67e99e8"
   },
   "outputs": [
    {
     "data": {
      "image/png": "[encoded data removed]",
      "text/plain": [
       "<Figure size 1296x360 with 3 Axes>"
      ]
     },
     "metadata": {
      "needs_background": "light"
     },
     "output_type": "display_data"
    }
   ],
   "source": [
    "import matplotlib.pyplot as plt\n",
    "import math\n",
    "\n",
    "fig = plt.figure()\n",
    "fig.set_figheight(5)\n",
    "fig.set_figwidth(18)\n",
    "\n",
    "ax1 = fig.add_subplot(131)\n",
    "ax1.plot(range(n+1), energy, 'bs', ls='dashed')\n",
    "plt.title('Ground State Energy, 6 Qubits', fontsize=14)\n",
    "#ax1.set_ylim([.98,1])\n",
    "ax1.set_xlabel(\"Optimization step\", fontsize=13)\n",
    "ax1.set_ylabel(\"Energy (Hartree)\", fontsize=13)\n",
    "ax1.yaxis.offsetText.set_visible(False)\n",
    "# ax2.text(5, 0.9865, r'Equilibrium bond length', fontsize=13)\n",
    "ax1.ticklabel_format(useOffset=False)\n",
    "plt.xticks(fontsize=12)\n",
    "plt.yticks(fontsize=12)\n",
    "\n",
    "# Add bond length plot on column 2\n",
    "d_fci = 0.96 # https://cccbdb.nist.gov/bondlengthmodel2.asp?method=12&basis=5\n",
    "ax2 = fig.add_subplot(132)\n",
    "ax2.plot(range(n+1), bond_length, 'bs', ls='dashed')\n",
    "plt.title('Ground State Bond Length, 6 Qubits', fontsize=14)\n",
    "ax2.set_ylim([.9892,.9896])\n",
    "ax2.set_xlabel(\"Optimization step\", fontsize=13)\n",
    "ax2.set_ylabel(\"bond length ($\\AA$)\", fontsize=13)\n",
    "# ax2.text(5, 0.9865, r'Equilibrium bond length', fontsize=13)\n",
    "plt.xticks(fontsize=12)\n",
    "plt.yticks(fontsize=12)\n",
    "\n",
    "bond_deg = [element * (180 / np.pi) for element in bond_angle]\n",
    "ax3 = fig.add_subplot(133)\n",
    "ax3.plot(range(n+1), bond_deg, 'bs', ls='dashed')\n",
    "plt.title('Ground State Bond Angle, 6 Qubits', fontsize=14)\n",
    "ax3.set_xlabel(\"Optimization step\", fontsize=13)\n",
    "ax3.set_ylabel(\"bond angle (deg)\", fontsize=13)\n",
    "ax3.yaxis.offsetText.set_visible(False)\n",
    "ax3.ticklabel_format(useOffset=False)\n",
    "plt.xticks(fontsize=12)\n",
    "plt.yticks(fontsize=12)\n",
    "\n",
    "\n",
    "plt.subplots_adjust(wspace=0.3)\n",
    "plt.show()"
   ]
  },
  {
   "cell_type": "code",
   "execution_count": null,
   "metadata": {
    "scrolled": true
   },
   "outputs": [],
   "source": [
    "from mpl_toolkits.mplot3d import Axes3D\n",
    "\n",
    "fig = plt.figure(figsize=(6,6))\n",
    "#ax = fig.add_subplot(111, projection='2d')\n",
    "\n",
    "\n",
    "tensor = tf.constant(x)\n",
    "arr = tensor.numpy()\n",
    "\n",
    "h1 = np.array([arr[0], arr[1],arr[2]])\n",
    "o1 = np.array([arr[3], arr[4],arr[5]])\n",
    "h2 = np.array([arr[6], arr[7],arr[8]])\n",
    "\n",
    "\n",
    "plt.plot( [h1[1],o1[1]] , [h1[2],o1[2]] ,color='black',zorder=1)\n",
    "plt.plot( [h2[1],o1[1]] , [h2[2],o1[2]] ,color='black',zorder=1)\n",
    "plt.scatter(h1[1],h1[2],color='grey',s=400,zorder=2,label = \"Hydrogen\")\n",
    "plt.scatter(o1[1],o1[2],color='red',s=600,zorder=2, label = \"Oxygen\")\n",
    "plt.scatter(h2[1],h2[2],color='grey',s=400,zorder=2)\n",
    " \n",
    "h1o1 = h1 - o1\n",
    "o1h2 = h2 - o1\n",
    "\n",
    "cosine_angle = np.dot(h1o1, o1h2) / (np.linalg.norm(h1o1) * np.linalg.norm(o1h2))\n",
    "angle = np.arccos(cosine_angle)\n",
    "\n",
    "plt.title(\"H2O, 6 Qubits\" \n",
    "          ,fontsize=14,fontweight='bold')\n",
    "plt.xlim([-2,2])\n",
    "plt.ylim([-2,2])\n",
    "\n",
    "\n",
    "plt.xlabel(\"Distance ($\\AA$)\")\n",
    "plt.ylabel(\"Distance ($\\AA$)\")\n",
    "\n",
    "#plt.legend(bbox_to_anchor=(1, 1),prop={'size': 15})\n",
    "plt.annotate(\"Angle %.2f deg\\nBond Length %.5f $\\AA$\\nEnergy %.3f Ha  \" \n",
    "          %(np.degrees(angle),bond_length[-1],energy[-1]), xy =(-1.8, 1)\n",
    "             ,xytext =(-1.9, .9),fontsize=14)\n",
    "\n",
    "plt.show()"
   ]
  },
  {
   "cell_type": "code",
   "execution_count": null,
   "metadata": {},
   "outputs": [],
   "source": []
  }
 ],
 "metadata": {
  "colab": {
   "collapsed_sections": [],
   "name": "LiH Geometry.ipynb",
   "provenance": []
  },
  "kernelspec": {
   "display_name": "Python 3 (ipykernel)",
   "language": "python",
   "name": "python3"
  },
  "language_info": {
   "codemirror_mode": {
    "name": "ipython",
    "version": 3
   },
   "file_extension": ".py",
   "mimetype": "text/x-python",
   "name": "python",
   "nbconvert_exporter": "python",
   "pygments_lexer": "ipython3",
   "version": "3.9.7"
  }
 },
 "nbformat": 4,
 "nbformat_minor": 1
}
