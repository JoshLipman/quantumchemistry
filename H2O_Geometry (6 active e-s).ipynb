{
 "cells": [
  {
   "cell_type": "markdown",
   "metadata": {
    "id": "cCypb9CkbUXG"
   },
   "source": [
    "**Optimize geometry of H2O**\n",
    "\n",
    "Follows Pennylane adaptive circuit tutorial to obtain circuit, and molecular geometry tutorial to optimize geometry"
   ]
   },
   "source": [
     "First - compute the Hamiltonian and calculate the single and double electron excitations (maybe also try looking at 3 & 4 excitations to see what effect it has on accuracy?).\n",
     "\n",
     "Active electrons = total electrons - core s type carbon electrons\n",
     "Active orbitals = orbitals that these active electrons occupy"
    ]
  },
   "cell_type": "code",
   "execution_count": 1,
   "metadata": {
    "id": "9nbeRa8rnm2M"
   },
   "outputs": [],
   "source": [
    "from pennylane import numpy as np\n",
    "import pennylane as qml"
   ]
  },
  {
   "cell_type": "code",
   "execution_count": 2,
   "metadata": {
    "id": "NppXsm80RXk6"
   },
   "outputs": [],
   "source": [
    "from pennylane import qchem"
   ]
  },
  {
   "cell_type": "code",
   "execution_count": 3,
   "metadata": {},
   "outputs": [],
   "source": [
    "ang_coords = np.array([0.0000,0.7581,-0.5086,\n",
    "                       0.0,0.0,0.1272,\n",
    "                       0.0000,-0.7581,-0.5086])\n",
    "\n",
    "bohr_angs = 0.529177210903\n",
    "angs_bohr = 1/bohr_angs"
   ]
  },
  {
   "cell_type": "code",
   "execution_count": 4,
   "metadata": {
    "id": "qKWsnkyhjBsl"
   },
   "outputs": [
    {
     "name": "stdout",
     "output_type": "stream",
     "text": [
      "[ 0.          1.43260138 -0.96111471  0.          0.          0.24037316\n",
      "  0.         -1.43260138 -0.96111471]\n"
     ]
    }
   ],
   "source": [
    "# Set up the molecule. Geometry coordinates from CCCBDB\n",
    "\n",
    "symbols = [\"H\",\"O\",\"H\"]\n",
    "geometry = np.array(ang_coords*angs_bohr, requires_grad=True)\n",
    "print(geometry)"
   ]
  },
  {
   "cell_type": "markdown",
   "metadata": {
    "id": "cLHwU1yIuJpM"
   },
   "source": [
    "Now create the circuit using https://pennylane.ai/qml/demos/tutorial_adaptive_circuits.html"
   ]
  },
  {
   "cell_type": "markdown",
   "metadata": {
    "id": "Osd-SpI7Z1bs"
   },
  {
   "cell_type": "code",
   "execution_count": 5,
   "metadata": {
    "id": "zDVJAlPwZlY8"
   },
   "outputs": [],
   "source": [
    "active_electrons = 6\n",
    "active_orbitals = 5\n",
    "\n",
    "H, qubits = qchem.molecular_hamiltonian(\n",
    "    symbols,\n",
    "    geometry,\n",
    "    active_electrons=active_electrons, ",
    "    active_orbitals=active_orbitals",
    ")\n",
    "\n",
    "singles, doubles = qchem.excitations(active_electrons, qubits)"
   ]
  },
  {
   "cell_type": "code",
   "execution_count": 6,
   "metadata": {
    "colab": {
     "base_uri": "https://localhost:8080/"
    },
    "id": "9qF8R7kRisJ7",
    "outputId": "20624f88-73a6-4203-f5be-fea561a85a8f"
   },
   "outputs": [
    {
     "name": "stdout",
     "output_type": "stream",
     "text": [
      "10\n"
     ]
    }
   ],
   "source": [
    "print(qubits)"
   ]
  },
  {
   "cell_type": "code",
   "execution_count": 7,
   "metadata": {
    "colab": {
     "base_uri": "https://localhost:8080/"
    },
    "id": "vV3E-VzMbq8u",
    "outputId": "96a37f1e-96f0-43ea-b860-5ac47a6e11b4"
   },
   "outputs": [
    {
     "name": "stdout",
     "output_type": "stream",
     "text": [
      "[[0, 6], [0, 8], [1, 7], [1, 9], [2, 6], [2, 8], [3, 7], [3, 9], [4, 6], [4, 8], [5, 7], [5, 9]]\n"
     ]
    }
   ],
   "source": [
    "print(singles)"
   ]
  },
  {
   "cell_type": "code",
   "execution_count": 8,
   "metadata": {
    "colab": {
     "base_uri": "https://localhost:8080/"
    },
    "id": "oMQhe_-7bw8p",
    "outputId": "473e78f4-aba0-4825-ef74-4a2b38d324d3"
   },
   "outputs": [
    {
     "name": "stdout",
     "output_type": "stream",
     "text": [
      "[[0, 1, 6, 7], [0, 1, 6, 9], [0, 1, 7, 8], [0, 1, 8, 9], [0, 2, 6, 8], [0, 3, 6, 7], [0, 3, 6, 9], [0, 3, 7, 8], [0, 3, 8, 9], [0, 4, 6, 8], [0, 5, 6, 7], [0, 5, 6, 9], [0, 5, 7, 8], [0, 5, 8, 9], [1, 2, 6, 7], [1, 2, 6, 9], [1, 2, 7, 8], [1, 2, 8, 9], [1, 3, 7, 9], [1, 4, 6, 7], [1, 4, 6, 9], [1, 4, 7, 8], [1, 4, 8, 9], [1, 5, 7, 9], [2, 3, 6, 7], [2, 3, 6, 9], [2, 3, 7, 8], [2, 3, 8, 9], [2, 4, 6, 8], [2, 5, 6, 7], [2, 5, 6, 9], [2, 5, 7, 8], [2, 5, 8, 9], [3, 4, 6, 7], [3, 4, 6, 9], [3, 4, 7, 8], [3, 4, 8, 9], [3, 5, 7, 9], [4, 5, 6, 7], [4, 5, 6, 9], [4, 5, 7, 8], [4, 5, 8, 9]]\n"
     ]
    }
   ],
   "source": [
    "print(doubles)"
   ]
  },
  {
   "cell_type": "markdown",
   "metadata": {
    "id": "JbgjpJ3xaXRx"
   },
   "source": [
    "Get the Hartree-Fock state"
   ]
  },
  {
   "cell_type": "code",
   "execution_count": 9,
   "metadata": {
    "colab": {
     "base_uri": "https://localhost:8080/"
    },
    "id": "bWbHpJXwbKqL",
    "outputId": "288b7746-48a5-478e-9088-ec60e20357bf"
   },
   "outputs": [
    {
     "name": "stdout",
     "output_type": "stream",
     "text": [
      "[1 1 1 1 1 1 0 0 0 0]\n"
     ]
    }
   ],
   "source": [
    "hf_state = qchem.hf_state(active_electrons, qubits)\n",
    "print(hf_state)"
   ]
  },
  {
   "cell_type": "markdown",
   "metadata": {
    "id": "qnmwO_--bVa0"
   },
   "source": [
    "Build the circuit:\n",
    "\n",
    "\n",
    "\n",
    "1.   Compute gradients for all double excitations\n",
    "2.   Select the double excitations with \n",
    "gradients larger than a pre-defined threshold\n",
    "\n",
    "1.   Select the double excitations with \n",
    "gradients larger than a pre-defined threshold\n",
    "2.   Perform VQE to obtain the optimized parameters for the selected double excitations\n",
    "\n",
    "1.   Repeat steps 1 and 2 for the single excitations"
   ]
  },
  {
   "cell_type": "code",
   "execution_count": 10,
   "metadata": {
    "id": "EOtNBQFMbR15"
   },
   "outputs": [],
   "source": [
    "# This function builds the circuit based on the set of parameters passed below\n",
    "# Wires - i.e. qubits in the circuit, and specific qubit excitations\n",
    "\n",
    "def circuit_1(params, wires, excitations):\n",
    "\n",
    "    qml.BasisState(hf_state, wires=wires)\n",
    "\n",
    "    for i, excitation in enumerate(excitations):\n",
    "        if len(excitation) == 4: #double excitations have four entries\n",
    "            qml.DoubleExcitation(params[i], wires=excitation)\n",
    "        else:\n",
    "            qml.SingleExcitation(params[i], wires=excitation) #two entries each"
   ]
  },
  {
   "cell_type": "code",
   "execution_count": 11,
   "metadata": {
    "colab": {
     "base_uri": "https://localhost:8080/"
    },
    "id": "TTxTorpOcV31",
    "outputId": "3be02dd5-bf99-43bf-bdc9-e61095b9977d"
   },
   "outputs": [
    {
     "name": "stdout",
     "output_type": "stream",
     "text": [
      "Excitation : [0, 1, 6, 7], Gradient: -0.06895513591356336\n",
      "Excitation : [0, 1, 6, 9], Gradient: 7.945496609551522e-19\n",
      "Excitation : [0, 1, 7, 8], Gradient: 0.0\n",
      "Excitation : [0, 1, 8, 9], Gradient: -0.15537997743550946\n",
      "Excitation : [0, 2, 6, 8], Gradient: 0.039925093724265906\n",
      "Excitation : [0, 3, 6, 7], Gradient: -2.1684043449710072e-19\n",
      "Excitation : [0, 3, 6, 9], Gradient: 0.046116213171660925\n",
      "Excitation : [0, 3, 7, 8], Gradient: -0.08604130689592682\n",
      "Excitation : [0, 3, 8, 9], Gradient: -1.0733053916783617e-18\n",
      "Excitation : [0, 4, 6, 8], Gradient: -7.318364664277155e-19\n",
      "Excitation : [0, 5, 6, 7], Gradient: -1.355252715606879e-19\n",
      "Excitation : [0, 5, 6, 9], Gradient: -1.0833355937178202e-34\n",
      "Excitation : [0, 5, 7, 8], Gradient: 0.0\n",
      "Excitation : [0, 5, 8, 9], Gradient: 2.3039296165316974e-19\n",
      "Excitation : [1, 2, 6, 7], Gradient: 0.0\n",
      "Excitation : [1, 2, 6, 9], Gradient: -0.08604130689592684\n",
      "Excitation : [1, 2, 7, 8], Gradient: 0.046116213171660925\n",
      "Excitation : [1, 2, 8, 9], Gradient: 0.0\n",
      "Excitation : [1, 3, 7, 9], Gradient: 0.03992509372426589\n",
      "Excitation : [1, 4, 6, 7], Gradient: 0.0\n",
      "Excitation : [1, 4, 6, 9], Gradient: 3.5236570605778904e-19\n",
      "Excitation : [1, 4, 7, 8], Gradient: 0.0\n",
      "Excitation : [1, 4, 8, 9], Gradient: 8.131516293641293e-20\n",
      "Excitation : [1, 5, 7, 9], Gradient: 0.0\n",
      "Excitation : [2, 3, 6, 7], Gradient: -0.07767995243941882\n",
      "Excitation : [2, 3, 6, 9], Gradient: 1.355252715606881e-19\n",
      "Excitation : [2, 3, 7, 8], Gradient: 0.0\n",
      "Excitation : [2, 3, 8, 9], Gradient: -0.07104948460458788\n",
      "Excitation : [2, 4, 6, 8], Gradient: -5.421010862427533e-20\n",
      "Excitation : [2, 5, 6, 7], Gradient: 1.572093150103983e-18\n",
      "Excitation : [2, 5, 6, 9], Gradient: 9.757819552369548e-19\n",
      "Excitation : [2, 5, 7, 8], Gradient: 0.0\n",
      "Excitation : [2, 5, 8, 9], Gradient: 0.0\n",
      "Excitation : [3, 4, 6, 7], Gradient: 2.1819568721270784e-18\n",
      "Excitation : [3, 4, 6, 9], Gradient: 3.1848438816761716e-18\n",
      "Excitation : [3, 4, 7, 8], Gradient: 0.0\n",
      "Excitation : [3, 4, 8, 9], Gradient: 3.5236570605778894e-19\n",
      "Excitation : [3, 5, 7, 9], Gradient: -2.71050543121376e-20\n",
      "Excitation : [4, 5, 6, 7], Gradient: -0.037575226050098616\n",
      "Excitation : [4, 5, 6, 9], Gradient: 3.5621829985870597e-19\n",
      "Excitation : [4, 5, 7, 8], Gradient: 0.0\n",
      "Excitation : [4, 5, 8, 9], Gradient: -0.024172976582413845\n"
     ]
    }
   ],
   "source": [
    "# specify the device\n",
    "dev = qml.device(\"default.qubit\", wires=qubits)\n",
    "\n",
    "# cost function calculate the expectation value of the Hamiltonian based on the\n",
    "# ansatz which is the circuit\n",
    "cost_fn = qml.ExpvalCost(circuit_1, H, dev, optimize=True)\n",
    "\n",
    "# # get the gradient of the cost function\n",
    "circuit_gradient = qml.grad(cost_fn, argnum=0)\n",
    "\n",
    "# # initialize parameters to zero so gradients computed from HF state\n",
    "params = [0.0] * len(doubles)\n",
    "\n",
    "# #calculate the gradient for the double excitations\n",
    "# this one actually calls the circuit_1 function\n",
    "grads = circuit_gradient(params, excitations=doubles)\n",
    "\n",
    "for i in range(len(doubles)):\n",
    "    print(f\"Excitation : {doubles[i]}, Gradient: {grads[i]}\")"
   ]
  },
  {
   "cell_type": "code",
   "execution_count": 12,
   "metadata": {
    "colab": {
     "base_uri": "https://localhost:8080/"
    },
    "id": "uI2S04Z7gyzb",
    "outputId": "e9a00ff5-ec8f-40d4-d6f6-1e95d6e88f8f"
   },
   "outputs": [
    {
     "data": {
      "text/plain": [
       "[[0, 1, 6, 7],\n",
       " [0, 1, 8, 9],\n",
       " [0, 2, 6, 8],\n",
       " [0, 3, 6, 9],\n",
       " [0, 3, 7, 8],\n",
       " [1, 2, 6, 9],\n",
       " [1, 2, 7, 8],\n",
       " [1, 3, 7, 9],\n",
       " [2, 3, 6, 7],\n",
       " [2, 3, 8, 9],\n",
       " [4, 5, 6, 7],\n",
       " [4, 5, 8, 9]]"
      ]
     },
     "execution_count": 12,
     "metadata": {},
     "output_type": "execute_result"
    }
   ],
   "source": [
    "# Just keep the double excitations that have gradients > 10^-5\n",
    "\n",
    "doubles_select = [doubles[i] for i in range(len(doubles)) if abs(grads[i]) > 1.0e-5]\n",
    "doubles_select"
   ]
  },
  {
   "cell_type": "code",
   "execution_count": 13,
   "metadata": {
    "id": "WOGyjz6cmXr3"
   },
   "outputs": [],
   "source": [
    "# Calculate the parameters (params_doubles) for each of the double excitation gates\n",
    "# using gradient descent to find the lowest expectation value of H on circuit_1\n",
    "# having applied the selected double excitations\n",
    "\n",
    "opt = qml.GradientDescentOptimizer(stepsize=0.5)\n",
    "\n",
    "params_doubles = np.zeros(len(doubles_select), requires_grad=True)\n",
    "\n",
    "for n in range(20):\n",
    "    params_doubles = opt.step(cost_fn, params_doubles, excitations=doubles_select)"
   ]
  },
  {
   "cell_type": "code",
   "execution_count": 14,
   "metadata": {
    "id": "y2kr8xZjoGwH"
   },
   "outputs": [],
   "source": [
    "# Create new circuit that applies the selected gates based on the gradients\n",
    "# determined above gradient threshold and pass those gates the parameters\n",
    "# calculated in the GDO process\n",
    "\n",
    "def circuit_2(params, wires, excitations, gates_select, params_select):\n",
    "    qml.BasisState(hf_state, wires=wires)\n",
    "\n",
    "    # apply the selected gates and apply parameters\n",
    "    \n",
    "    for i, gate in enumerate(gates_select):\n",
    "        if len(gate) == 4:\n",
    "            qml.DoubleExcitation(params_select[i], wires=gate)\n",
    "        elif len(gate) == 2:\n",
    "            qml.SingleExcitation(params_select[i], wires=gate)\n",
    "\n",
    "    for i, gate in enumerate(excitations):\n",
    "        if len(gate) == 4:\n",
    "            qml.DoubleExcitation(params[i], wires=gate)\n",
    "        elif len(gate) == 2:\n",
    "            qml.SingleExcitation(params[i], wires=gate)"
   ]
  },
  {
   "cell_type": "code",
   "execution_count": 15,
   "metadata": {
    "colab": {
     "base_uri": "https://localhost:8080/"
    },
    "id": "Dlbi0W0NpFTE",
    "outputId": "65c28701-1882-459c-ee00-c5d40379fc83"
   },
   "outputs": [
    {
     "name": "stdout",
     "output_type": "stream",
     "text": [
      "Excitation : [0, 6], Gradient: -1.496302971366227e-17\n",
      "Excitation : [0, 8], Gradient: 0.003913616772301988\n",
      "Excitation : [1, 7], Gradient: -1.540505354566045e-18\n",
      "Excitation : [1, 9], Gradient: -0.0039135937125555405\n",
      "Excitation : [2, 6], Gradient: -0.014266715907600492\n",
      "Excitation : [2, 8], Gradient: 1.8284037529795297e-16\n",
      "Excitation : [3, 7], Gradient: 0.014266733923399062\n",
      "Excitation : [3, 9], Gradient: 3.094590634476794e-15\n",
      "Excitation : [4, 6], Gradient: 4.047933385667113e-21\n",
      "Excitation : [4, 8], Gradient: -9.698635632949605e-20\n",
      "Excitation : [5, 7], Gradient: 1.8645990172672167e-19\n",
      "Excitation : [5, 9], Gradient: 1.776819809452792e-17\n"
     ]
    }
   ],
   "source": [
    "# Now compute gradients for single excitations, in same way we did for the\n",
    "# double excitations\n",
    "\n",
    "# cost function calculate the expectation value of the Hamiltonian based on the\n",
    "# ansatz which is the circuit\n",
    "cost_fn = qml.ExpvalCost(circuit_2, H, dev, optimize=True)\n",
    "\n",
    "# get the gradient of the cost function\n",
    "circuit_gradient = qml.grad(cost_fn, argnum=0)\n",
    "\n",
    "# initialize parameters to zero so gradients computed from HF state\n",
    "# note that we're only doing this for the single excitations as the \n",
    "# doubles are already fixed\n",
    "params = [0.0] * len(singles)\n",
    "\n",
    "# calculate the gradient for the single excitations, but with the previously\n",
    "# computed double excitations held constant. Note that circuit_2 takes the\n",
    "# following parameters: params, wires, excitations, gates_select, params_select\n",
    "\n",
    "grads = circuit_gradient(\n",
    "    params,\n",
    "    excitations=singles,\n",
    "    gates_select = doubles_select,\n",
    "    params_select = params_doubles)\n",
    "\n",
    "for i in range(len(singles)):\n",
    "    print(f\"Excitation : {singles[i]}, Gradient: {grads[i]}\")"
   ]
  },
  {
   "cell_type": "code",
   "execution_count": 16,
   "metadata": {
    "colab": {
     "base_uri": "https://localhost:8080/"
    },
    "id": "ydkNw9Q9qEZJ",
    "outputId": "bc21dfa4-502b-4b5c-f223-6eb1219904c6"
   },
   "outputs": [
    {
     "data": {
      "text/plain": [
       "[[0, 8], [1, 9], [2, 6], [3, 7]]"
      ]
     },
     "execution_count": 16,
     "metadata": {},
     "output_type": "execute_result"
    }
   ],
   "source": [
    "singles_select = [singles[i] for i in range(len(singles)) if abs(grads[i]) > 1.0e-5]\n",
    "singles_select"
   ]
  },
  {
   "cell_type": "code",
   "execution_count": 17,
   "metadata": {
    "colab": {
     "base_uri": "https://localhost:8080/"
    },
    "id": "60M-hG-lzVPu",
    "outputId": "38e82693-20c7-40e6-93ed-f0c70ad6666c"
   },
   "outputs": [
    {
     "data": {
      "text/plain": [
       "[[0, 1, 6, 7],\n",
       " [0, 1, 8, 9],\n",
       " [0, 2, 6, 8],\n",
       " [0, 3, 6, 9],\n",
       " [0, 3, 7, 8],\n",
       " [1, 2, 6, 9],\n",
       " [1, 2, 7, 8],\n",
       " [1, 3, 7, 9],\n",
       " [2, 3, 6, 7],\n",
       " [2, 3, 8, 9],\n",
       " [4, 5, 6, 7],\n",
       " [4, 5, 8, 9],\n",
       " [0, 8],\n",
       " [1, 9],\n",
       " [2, 6],\n",
       " [3, 7]]"
      ]
     },
     "execution_count": 17,
     "metadata": {},
     "output_type": "execute_result"
    }
   ],
   "source": [
    "excitations = doubles_select + singles_select\n",
    "excitations"
   ]
  },
  {
   "cell_type": "code",
   "execution_count": 18,
   "metadata": {
    "colab": {
     "base_uri": "https://localhost:8080/"
    },
    "id": "lLnT6xkcnt2I",
    "outputId": "63158beb-142a-434c-c048-abb045fd7588"
   },
   "outputs": [
    {
     "name": "stdout",
     "output_type": "stream",
     "text": [
      "n = 0,  E = -74.96590119 H\n",
      "n = 1,  E = -74.99123563 H\n",
      "n = 2,  E = -74.99979421 H\n",
      "n = 3,  E = -75.00280721 H\n",
      "n = 4,  E = -75.00394260 H\n",
      "n = 5,  E = -75.00441044 H\n",
      "n = 6,  E = -75.00462493 H\n",
      "n = 7,  E = -75.00473516 H\n",
      "n = 8,  E = -75.00479822 H\n",
      "n = 9,  E = -75.00483762 H\n",
      "n = 10,  E = -75.00486388 H\n",
      "n = 11,  E = -75.00488220 H\n",
      "n = 12,  E = -75.00489535 H\n",
      "n = 13,  E = -75.00490499 H\n",
      "n = 14,  E = -75.00491215 H\n",
      "n = 15,  E = -75.00491750 H\n",
      "n = 16,  E = -75.00492154 H\n",
      "n = 17,  E = -75.00492459 H\n",
      "n = 18,  E = -75.00492690 H\n",
      "n = 19,  E = -75.00492866 H\n"
     ]
    }
   ],
   "source": [
    "cost_fn = qml.ExpvalCost(circuit_1, H, dev, optimize=True)\n",
    "\n",
    "params = np.zeros(len(doubles_select + singles_select), requires_grad=True)\n",
    "\n",
    "gates_select = doubles_select + singles_select\n",
    "\n",
    "for n in range(20):\n",
    "    params, energy = opt.step_and_cost(cost_fn, params, excitations=gates_select)\n",
    "    print(\"n = {:},  E = {:.8f} H\".format(n, energy))"
   ]
  },
  {
   "cell_type": "code",
   "execution_count": 19,
   "metadata": {
    "colab": {
     "base_uri": "https://localhost:8080/"
    },
    "id": "h8yzsYRQoWOV",
    "outputId": "273e3540-333d-4c34-944f-9f57961faac2"
   },
   "outputs": [
    {
     "data": {
      "text/plain": [
       "tensor([ 8.69315049e-02,  1.66020680e-01, -3.74307550e-02,\n",
       "        -7.26116910e-02,  1.09891389e-01,  1.09891493e-01,\n",
       "        -7.26111113e-02, -3.74314237e-02,  9.76245557e-02,\n",
       "         9.73194397e-02,  5.56396743e-02,  2.56599605e-02,\n",
       "         5.30626262e-05, -5.33371547e-05,  4.27134849e-02,\n",
       "        -4.27141682e-02], requires_grad=True)"
      ]
     },
     "execution_count": 19,
     "metadata": {},
     "output_type": "execute_result"
    }
   ],
   "source": [
    "params"
   ]
  },
  {
   "cell_type": "markdown",
   "metadata": {
    "id": "Gd2MspiurS-D"
   },
   "source": [
    "**Now we do the geometry and energy optimization**\n"
   ]
  },
  {
   "cell_type": "code",
   "execution_count": 20,
   "metadata": {
    "id": "vGD1gfOd6iZr"
   },
   "outputs": [],
   "source": [
    "x = np.array(ang_coords*angs_bohr, requires_grad=True)"
   ]
  },
  {
   "cell_type": "code",
   "execution_count": 21,
   "metadata": {
    "id": "BxZViwVEnZR4"
   },
   "outputs": [],
   "source": [
    "# Get the Hamiltonian for the molecule, based on x (position of nuclei)\n",
    "# This is different from the earlier code where we weren't changing positions\n",
    "\n",
    "def H(x):\n",
    "    return qml.qchem.molecular_hamiltonian(symbols,\n",
    "                                           x,\n",
    "                                           active_electrons=active_electrons, # figure out how to get this\n",
    "                                           active_orbitals=active_orbitals, # figure out how to get this\n",
    "                                           charge=0)[0]"
   ]
  },
  {
   "cell_type": "code",
   "execution_count": 22,
   "metadata": {
    "colab": {
     "base_uri": "https://localhost:8080/"
    },
    "id": "Sicu5ACAnhhw",
    "outputId": "83041fb1-39c9-4cd0-f7e5-8ba8d8247984"
   },
   "outputs": [
    {
     "name": "stdout",
     "output_type": "stream",
     "text": [
      "[1 1 1 1 1 1 0 0 0 0]\n"
     ]
    }
   ],
   "source": [
    "# we made the HF state earlier, doing it here again\n",
    "\n",
    "hf = qchem.hf_state(active_electrons, qubits)\n",
    "print(hf)"
   ]
  },
  {
   "cell_type": "code",
   "execution_count": 23,
   "metadata": {
    "colab": {
     "base_uri": "https://localhost:8080/"
    },
    "id": "8HD69aECZWhO",
    "outputId": "60cdf939-a105-4483-9c6f-d73d30dd32ef"
   },
   "outputs": [
    {
     "name": "stdout",
     "output_type": "stream",
     "text": [
      "10\n"
     ]
    }
   ],
   "source": [
    "print(qubits)"
   ]
  },
  {
   "cell_type": "code",
   "execution_count": 24,
   "metadata": {
    "colab": {
     "base_uri": "https://localhost:8080/"
    },
    "id": "AE4l6s2v2oK1",
    "outputId": "3eb6f59b-69d5-4d62-f9fe-7da083694971"
   },
   "outputs": [
    {
     "name": "stdout",
     "output_type": "stream",
     "text": [
      "10\n"
     ]
    }
   ],
   "source": [
    "num_wires = qubits\n",
    "dev = qml.device(\"default.qubit\", wires=num_wires)\n",
    "print(num_wires)"
   ]
  },
  {
   "cell_type": "code",
   "execution_count": 25,
   "metadata": {
    "id": "QFqvelYtoTzv"
   },
   "outputs": [],
   "source": [
    "@qml.qnode(dev)\n",
    "def circuit(params, obs, wires):\n",
    "    qml.BasisState(hf, wires=wires)\n",
    "\n",
    "    #added this code, replacing hard-coded excitations in tutorial\n",
    "\n",
    "    for i, excitation in enumerate(excitations):\n",
    "        if len(excitation) == 4:\n",
    "            qml.DoubleExcitation(params[i], wires=excitation)\n",
    "        else:\n",
    "            qml.SingleExcitation(params[i], wires=excitation) \n",
    "    \n",
    "    return qml.expval(obs)"
   ]
  },
  {
   "cell_type": "code",
   "execution_count": 26,
   "metadata": {
    "id": "xwgrL_lFoXnX"
   },
   "outputs": [],
   "source": [
    "# Get the expectation value of the Hamiltonian, based on the excitation\n",
    "# parameters and the x (position) value. A call to 'circuit' returns\n",
    "# the expectation value of measuring the Hamiltonian\n",
    "\n",
    "# NOTE: find a way to not have to pass the excitations each time?\n",
    "\n",
    "def cost(params, x):\n",
    "    hamiltonian = H(x)\n",
    "    return circuit(params, obs=hamiltonian, wires=range(num_wires))"
   ]
  },
  {
   "cell_type": "markdown",
   "metadata": {
    "id": "OI19SG6yrOc5"
   },
   "source": [
    "Explanation of [qml.finite_diff](https://pennylane.readthedocs.io/en/stable/code/api/pennylane.finite_diff.html#pennylane.finite_diff)"
   ]
  },
  {
   "cell_type": "code",
   "execution_count": 27,
   "metadata": {
    "id": "ke8e5uK5oa96"
   },
   "outputs": [],
   "source": [
    "# Find the partial differential of H w.r.t. x\n",
    "\n",
    "def grad_x(params, x):\n",
    "    grad_h = qml.finite_diff(H)(x)\n",
    "    grad = [circuit(params, obs=obs, wires=range(num_wires)) for obs in grad_h]\n",
    "    return np.array(grad)"
   ]
  },
  {
   "cell_type": "code",
   "execution_count": 28,
   "metadata": {
    "id": "XfzPvaNBod7g"
   },
   "outputs": [],
   "source": [
    "# Experiment with different step sizes?\n",
    "\n",
    "opt_theta = qml.GradientDescentOptimizer(stepsize=0.4)\n",
    "opt_x = qml.GradientDescentOptimizer(stepsize=0.8)"
   ]
  },
  {
   "cell_type": "code",
   "execution_count": 29,
   "metadata": {
    "colab": {
     "base_uri": "https://localhost:8080/"
    },
    "id": "cDLtKAPyogVE",
    "outputId": "155215a2-3497-47a4-9303-dd9c4898b1d9"
   },
   "outputs": [
    {
     "data": {
      "text/plain": [
       "16"
      ]
     },
     "execution_count": 29,
     "metadata": {},
     "output_type": "execute_result"
    }
   ],
   "source": [
    "theta = np.zeros(len(excitations), requires_grad=True)\n",
    "len(theta)"
   ]
  },
  {
   "cell_type": "code",
   "execution_count": 30,
   "metadata": {
    "id": "gBjsJJ0f0vIV"
   },
   "outputs": [],
   "source": [
    "from functools import partial\n",
    "\n",
    "# store the values of the cost function\n",
    "energy = []\n",
    "\n",
    "# store the values of the bond length\n",
    "bond_length = []\n",
    "\n",
    "# Factor to convert from Bohrs to Angstroms\n",
    "bohr_angs = 0.529177210903"
   ]
  },
  {
   "cell_type": "code",
   "execution_count": 31,
   "metadata": {
    "colab": {
     "base_uri": "https://localhost:8080/"
    },
    "id": "s8K35eBothaj",
    "outputId": "9ab9514c-fb4c-422a-88b9-8c1494f35682",
    "scrolled": false
   },
   "outputs": [
    {
     "name": "stdout",
     "output_type": "stream",
     "text": [
      "Step = 0,  E = -74.98742763 Ha,  bond length = 0.99709 A\n",
      "Step = 4,  E = -74.33315884 Ha,  bond length = 4.15154 A\n",
      "Step = 8,  E = -72.47799808 Ha,  bond length = 73.33863 A\n",
      "Step = 12,  E = -73.30507242 Ha,  bond length = 73.24223 A\n",
      "Step = 16,  E = -73.70368032 Ha,  bond length = 73.24381 A\n",
      "Step = 20,  E = -74.24081468 Ha,  bond length = 73.23765 A\n",
      "Step = 24,  E = -74.46308715 Ha,  bond length = 73.22458 A\n",
      "Step = 28,  E = -74.52041601 Ha,  bond length = 73.21114 A\n",
      "Step = 32,  E = -73.88197480 Ha,  bond length = 92.55150 A\n",
      "Step = 36,  E = -73.89809199 Ha,  bond length = 92.55139 A\n",
      "Step = 40,  E = -73.92210299 Ha,  bond length = 92.55128 A\n",
      "Step = 44,  E = -73.96319412 Ha,  bond length = 92.55118 A\n",
      "Step = 48,  E = -74.04421452 Ha,  bond length = 92.55109 A\n",
      "Step = 52,  E = -74.21329233 Ha,  bond length = 92.55102 A\n",
      "Step = 56,  E = -74.47555072 Ha,  bond length = 92.55097 A\n",
      "\n",
      "Final value of the ground-state energy = -74.62760233 Ha\n",
      "\n",
      "Ground-state equilibrium geometry\n",
      "symbol    x        y        z\n",
      "  H    0.0000   -2.8379   -95.1877\n",
      "  O    -0.0000   135.3559   12.0086\n",
      "  H    0.0000   2.8428   1.8490\n"
     ]
    }
   ],
   "source": [
    "for n in range(100):\n",
    "\n",
    "    # Optimize the circuit parameters\n",
    "    theta.requires_grad = True\n",
    "    x.requires_grad = False\n",
    "    theta, _ = opt_theta.step(cost, theta, x)\n",
    "\n",
    "    # Optimize the nuclear coordinates\n",
    "    x.requires_grad = True\n",
    "    theta.requires_grad = False\n",
    "    _, x = opt_x.step(cost, theta, x, grad_fn=grad_x)\n",
    "\n",
    "    energy.append(cost(theta, x))\n",
    "    bond_length.append(np.linalg.norm(x[0:3] - x[3:6]) * bohr_angs)\n",
    "\n",
    "    if n % 4 == 0:\n",
    "        print(f\"Step = {n},  E = {energy[-1]:.8f} Ha,  bond length = {bond_length[-1]:.5f} A\")\n",
    "\n",
    "    # Check maximum component of the nuclear gradient\n",
    "    if np.max(grad_x(theta, x)) <= 1e-05:\n",
    "        break\n",
    "\n",
    "print(\"\\n\" f\"Final value of the ground-state energy = {energy[-1]:.8f} Ha\")\n",
    "print(\"\\n\" \"Ground-state equilibrium geometry\")\n",
    "print(\"%s %4s %8s %8s\" % (\"symbol\", \"x\", \"y\", \"z\"))\n",
    "for i, atom in enumerate(symbols):\n",
    "    print(f\"  {atom}    {x[3 * i]:.4f}   {x[3 * i + 1]:.4f}   {x[3 * i + 2]:.4f}\")"
   ]
  },
  {
   "cell_type": "code",
   "execution_count": 32,
   "metadata": {
    "colab": {
     "base_uri": "https://localhost:8080/",
     "height": 345
    },
    "id": "j9-o_SZ2q_UK",
    "outputId": "3b517156-0993-4afb-efc2-3a2dd67e99e8"
   },
   "outputs": [
    {
     "data": {
      "image/png": "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\n",
      "text/plain": [
       "<Figure size 864x360 with 2 Axes>"
      ]
     },
     "metadata": {
      "needs_background": "light"
     },
     "output_type": "display_data"
    }
   ],
   "source": [
    "import matplotlib.pyplot as plt\n",
    "\n",
    "fig = plt.figure()\n",
    "fig.set_figheight(5)\n",
    "fig.set_figwidth(12)\n",
    "\n",
    "#Add energy plot on column 1\n",
    "#E_fci = -74.9749\n",
    "#E_vqe = np.array(energy)\n",
    "#ax1 = fig.add_subplot(121)\n",
    "#ax1.plot(range(n+1), E_vqe-E_fci, 'go-', ls='dashed')\n",
    "#ax1.plot(range(n+1), np.full(n+1, 0.001), color='red')\n",
    "#ax1.set_xlabel(\"Optimization step\", fontsize=13)\n",
    "#ax1.set_ylabel(\"$E_{VQE} - E_{FCI}$ (Hartree)\", fontsize=13)\n",
    "#ax1.text(5, 0.0013, r'Chemical accuracy', fontsize=13)\n",
    "#plt.yscale(\"log\")\n",
    "#plt.xticks(fontsize=12)\n",
    "#plt.yticks(fontsize=12)\n",
    "\n",
    "ax1 = fig.add_subplot(121)\n",
    "ax1.plot(range(n+1), energy, 'go-', ls='dashed')\n",
    "#ax1.set_ylim([.98,1])\n",
    "ax1.set_xlabel(\"Optimization step\", fontsize=13)\n",
    "ax1.set_ylabel(\"Energy (Hartree)\", fontsize=13)\n",
    "# ax2.text(5, 0.9865, r'Equilibrium bond length', fontsize=13)\n",
    "plt.xticks(fontsize=12)\n",
    "plt.yticks(fontsize=12)\n",
    "\n",
    "# Add bond length plot on column 2\n",
    "d_fci = 0.96 # https://cccbdb.nist.gov/bondlengthmodel2.asp?method=12&basis=5\n",
    "ax2 = fig.add_subplot(122)\n",
    "ax2.plot(range(n+1), bond_length, 'go-', ls='dashed')\n",
    "ax2.plot(range(n+1), np.full(n+1, d_fci), color='red')\n",
    "ax2.set_ylim([.98,1])\n",
    "ax2.set_xlabel(\"Optimization step\", fontsize=13)\n",
    "ax2.set_ylabel(\"bond length ($\\AA$)\", fontsize=13)\n",
    "# ax2.text(5, 0.9865, r'Equilibrium bond length', fontsize=13)\n",
    "plt.xticks(fontsize=12)\n",
    "plt.yticks(fontsize=12)\n",
    "\n",
    "plt.subplots_adjust(wspace=0.3)\n",
    "plt.show()"
   ]
  },
  {
   "cell_type": "code",
   "execution_count": 33,
   "metadata": {
    "scrolled": true
   },
   "outputs": [
    {
     "data": {
      "image/png": "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\n",
      "text/plain": [
       "<Figure size 432x432 with 1 Axes>"
      ]
     },
     "metadata": {
      "needs_background": "light"
     },
     "output_type": "display_data"
    }
   ],
   "source": [
    "from mpl_toolkits.mplot3d import Axes3D\n",
    "\n",
    "fig = plt.figure(figsize=(6,6))\n",
    "#ax = fig.add_subplot(111, projection='2d')\n",
    "\n",
    "import tensorflow as tf\n",
    "tensor = tf.constant(x)\n",
    "arr = tensor.numpy()\n",
    "\n",
    "h1 = np.array([arr[0], arr[1],arr[2]])\n",
    "o1 = np.array([arr[3], arr[4],arr[5]])\n",
    "h2 = np.array([arr[6], arr[7],arr[8]])\n",
    "\n",
    "\n",
    "plt.plot( [h1[1],o1[1]] , [h1[2],o1[2]] ,color='black',zorder=1)\n",
    "plt.plot( [h2[1],o1[1]] , [h2[2],o1[2]] ,color='black',zorder=1)\n",
    "plt.scatter(h1[1],h1[2],color='grey',s=200,zorder=2,label = \"Hydrogen\")\n",
    "plt.scatter(o1[1],o1[2],color='red',s=400,zorder=2, label = \"Oxygen\")\n",
    "plt.scatter(h2[1],h2[2],color='grey',s=200,zorder=2)\n",
    " \n",
    "h1o1 = h1 - o1\n",
    "o1h2 = h2 - o1\n",
    "\n",
    "cosine_angle = np.dot(h1o1, o1h2) / (np.linalg.norm(h1o1) * np.linalg.norm(o1h2))\n",
    "angle = np.arccos(cosine_angle)\n",
    "\n",
    "plt.title(\"H2O active electrons %.0f, active orbitals %.0f\" \n",
    "          %(active_electrons,active_orbitals),fontsize=14,fontweight='bold')\n",
    "plt.xlim([-2,2])\n",
    "plt.ylim([-2,2])\n",
    "\n",
    "\n",
    "plt.xlabel(\"Distance ($\\AA$)\")\n",
    "plt.ylabel(\"Distance ($\\AA$)\")\n",
    "\n",
    "#plt.legend(bbox_to_anchor=(1, 1),prop={'size': 15})\n",
    "plt.annotate(\"Angle %.2f deg\\nBond Length %.5f $\\AA$\\nEnergy %.3f Ha  \" \n",
    "          %(np.degrees(angle),bond_length[-1],energy[-1]), xy =(-1.8, 1)\n",
    "             ,xytext =(-1.9, .9),fontsize=14)\n",
    "\n",
    "plt.show()"
   ]
  },
  {
   "cell_type": "code",
   "execution_count": 34,
   "metadata": {},
   "outputs": [
    {
     "data": {
      "text/plain": [
       "[tensor(-74.98742763, requires_grad=True),\n",
       " tensor(-74.99743442, requires_grad=True),\n",
       " tensor(-75.0023305, requires_grad=True),\n",
       " tensor(-75.00484897, requires_grad=True),\n",
       " tensor(-74.33315884, requires_grad=True),\n",
       " tensor(-72.24201891, requires_grad=True),\n",
       " tensor(-72.28249226, requires_grad=True),\n",
       " tensor(-72.35509769, requires_grad=True),\n",
       " tensor(-72.47799808, requires_grad=True),\n",
       " tensor(-72.66398981, requires_grad=True),\n",
       " tensor(-72.89824312, requires_grad=True),\n",
       " tensor(-73.12843949, requires_grad=True),\n",
       " tensor(-73.30507242, requires_grad=True),\n",
       " tensor(-73.42515378, requires_grad=True),\n",
       " tensor(-73.51561808, requires_grad=True),\n",
       " tensor(-73.6026516, requires_grad=True),\n",
       " tensor(-73.70368032, requires_grad=True),\n",
       " tensor(-73.82740501, requires_grad=True),\n",
       " tensor(-73.97065103, requires_grad=True),\n",
       " tensor(-74.11605839, requires_grad=True),\n",
       " tensor(-74.24081468, requires_grad=True),\n",
       " tensor(-74.33265746, requires_grad=True),\n",
       " tensor(-74.39436952, requires_grad=True),\n",
       " tensor(-74.43515788, requires_grad=True),\n",
       " tensor(-74.46308715, requires_grad=True),\n",
       " tensor(-74.48326424, requires_grad=True),\n",
       " tensor(-74.49857858, requires_grad=True),\n",
       " tensor(-74.5106472, requires_grad=True),\n",
       " tensor(-74.52041601, requires_grad=True),\n",
       " tensor(-74.52847728, requires_grad=True),\n",
       " tensor(-73.87397641, requires_grad=True),\n",
       " tensor(-73.87829111, requires_grad=True),\n",
       " tensor(-73.8819748, requires_grad=True),\n",
       " tensor(-73.88560396, requires_grad=True),\n",
       " tensor(-73.88942312, requires_grad=True),\n",
       " tensor(-73.89355685, requires_grad=True),\n",
       " tensor(-73.89809199, requires_grad=True),\n",
       " tensor(-73.90311076, requires_grad=True),\n",
       " tensor(-73.9087059, requires_grad=True),\n",
       " tensor(-73.91498988, requires_grad=True),\n",
       " tensor(-73.92210299, requires_grad=True),\n",
       " tensor(-73.93022239, requires_grad=True),\n",
       " tensor(-73.93957309, requires_grad=True),\n",
       " tensor(-73.95044185, requires_grad=True),\n",
       " tensor(-73.96319412, requires_grad=True),\n",
       " tensor(-73.97829392, requires_grad=True),\n",
       " tensor(-73.99632513, requires_grad=True),\n",
       " tensor(-74.01800985, requires_grad=True),\n",
       " tensor(-74.04421452, requires_grad=True),\n",
       " tensor(-74.07592598, requires_grad=True),\n",
       " tensor(-74.11416801, requires_grad=True),\n",
       " tensor(-74.15981849, requires_grad=True),\n",
       " tensor(-74.21329233, requires_grad=True),\n",
       " tensor(-74.27410361, requires_grad=True),\n",
       " tensor(-74.34043743, requires_grad=True),\n",
       " tensor(-74.4090139, requires_grad=True),\n",
       " tensor(-74.47555072, requires_grad=True),\n",
       " tensor(-74.53583243, requires_grad=True),\n",
       " tensor(-74.58688841, requires_grad=True),\n",
       " tensor(-74.62760233, requires_grad=True)]"
      ]
     },
     "execution_count": 34,
     "metadata": {},
     "output_type": "execute_result"
    }
   ],
   "source": []
  },
  {
   "cell_type": "code",
   "execution_count": null,
   "metadata": {},
   "outputs": [],
   "source": []
  }
 ],
 "metadata": {
  "colab": {
   "collapsed_sections": [],
   "name": "LiH Geometry.ipynb",
   "provenance": []
  },
  "kernelspec": {
   "display_name": "Python 3",
   "language": "python",
   "name": "python3"
  },
  "language_info": {
   "codemirror_mode": {
    "name": "ipython",
    "version": 3
   },
   "file_extension": ".py",
   "mimetype": "text/x-python",
   "name": "python",
   "nbconvert_exporter": "python",
   "pygments_lexer": "ipython3",
   "version": "3.8.8"
  }
 },
 "nbformat": 4,
 "nbformat_minor": 1
}
